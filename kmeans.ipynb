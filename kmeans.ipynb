{
  "cells": [
    {
      "cell_type": "code",
      "execution_count": 1,
      "metadata": {
        "id": "qRhgTaB26SJD"
      },
      "outputs": [],
      "source": [
        "import numpy as np\n",
        "import random"
      ]
    },
    {
      "cell_type": "code",
      "execution_count": null,
      "metadata": {
        "id": "lobsGYUDw_FN"
      },
      "outputs": [],
      "source": [
        "matrix1 = np.loadtxt(open(\"transformed_data_updtd.csv\", \"rb\"), delimiter=\",\", skiprows=1)\n",
        "data1=np.array(matrix1)\n",
        "#matrix2 = np.loadtxt(open(\"/content/drive/MyDrive/ML_PROJECT/transformed_data_scikit.csv\", \"rb\"), delimiter=\",\", skiprows=1)\n",
        "#data1=np.array(matrix2)\n",
        "#data1=np.array([[2,0],[2,0],[4,5],[2,3],[2,1],[1,3],[3,4],[5,3],[6,3]])\n",
        "k=4\n",
        "iterations=5"
      ]
    },
    {
      "cell_type": "code",
      "execution_count": null,
      "metadata": {
        "id": "Ud-81wYsuiWS"
      },
      "outputs": [],
      "source": [
        "Clust_N = k\n",
        "with open('number_of_clusters.txt', 'w') as f:\n",
        "    f.write(str(k))"
      ]
    },
    {
      "cell_type": "code",
      "execution_count": null,
      "metadata": {
        "id": "h-j4LtQeHjMI"
      },
      "outputs": [],
      "source": [
        "\n",
        "def random_assign(data,centeroids,rows,k):\n",
        "\n",
        "  random_indexes=random.sample(range(0,rows-1),k)\n",
        "  for cluster in range (k):\n",
        "    phone=random_indexes[cluster]\n",
        "    centeroids[cluster]=data[phone]\n",
        "\n",
        "  print(\"\\n initially centeroids : \\n\" ,centeroids)\n",
        "  print(\"\\n____________________________\\n\")"
      ]
    },
    {
      "cell_type": "code",
      "execution_count": null,
      "metadata": {
        "id": "jvDQMhSVRcPs"
      },
      "outputs": [],
      "source": [
        "def find_centeroids(data,result,centeroids,k,rows,features):\n",
        "  # number of phones in each cluster at an instant\n",
        "  point_counts=np.zeros(k)\n",
        "  #all centeroids assigned zero initially as they have to be calculated again\n",
        "  centeroids=np.zeros((k,features))\n",
        "\n",
        "  #calculates number of phones in each cluster\n",
        "  for phone in range (rows):\n",
        "    cluster_no = int(result[phone][1])\n",
        "    point_counts[cluster_no]+=1\n",
        "\n",
        "  #calculate centeroids\n",
        "  for phone in range (rows):\n",
        "    cluster_no=int(result[phone][1])\n",
        "    #print(\"\\n phone : \",phone,\"-> current cluster no. : \",cluster_no)\n",
        "    for feature in range (features):\n",
        "      centeroids[cluster_no][feature]+= (data[phone][feature] / point_counts[cluster_no])\n",
        "\n",
        "  print(\"\\n  final centeroid : \\n\",centeroids,\"\\n \\n ************************************************************** \\n\")"
      ]
    },
    {
      "cell_type": "code",
      "execution_count": null,
      "metadata": {
        "id": "gZSaBzbqR5lp"
      },
      "outputs": [],
      "source": [
        "def calculate_distance(cluster_centeroid,phone,features):\n",
        "  diff= cluster_centeroid - phone\n",
        "  dist=np.sqrt(np.dot(diff.T,diff))\n",
        "  return dist"
      ]
    },
    {
      "cell_type": "code",
      "execution_count": null,
      "metadata": {
        "id": "Sx0ynK40QXXq"
      },
      "outputs": [],
      "source": [
        "def update_result(data,centeroids,result,k,rows,features):\n",
        "  distances=np.empty((rows,k))\n",
        "  for cluster in range(k):\n",
        "    for phone in range(rows):\n",
        "      dist = calculate_distance(centeroids[cluster],data[phone],features)\n",
        "      distances[phone][cluster]=dist\n",
        "      if dist < result[phone][0]:\n",
        "        result[phone][0]=dist\n",
        "        result[phone][1]=cluster\n",
        "\n",
        "  print(\"\\n distance : \\n\",distances,\"\\n\")"
      ]
    },
    {
      "cell_type": "code",
      "execution_count": null,
      "metadata": {
        "id": "z0h4HyeyKEGK"
      },
      "outputs": [],
      "source": [
        "def apply_clustering(data,centeroids,result,k,rows,features):\n",
        "  update_result(data,centeroids,result,k,rows,features)\n",
        "  find_centeroids(data,result,centeroids,k,rows,features)"
      ]
    },
    {
      "cell_type": "code",
      "execution_count": null,
      "metadata": {
        "id": "fFkEBCzGDiLW"
      },
      "outputs": [],
      "source": [
        "\n",
        "def algorithm(data,result,rows,features):\n",
        "  #k are the number of clusters\n",
        "\n",
        "  # means is an array that stores features number of dimensions of centeroid of k clusters i.e. k rows features columns\n",
        "  # points_counts store number of points in ith cluster\n",
        "  # k number of cluster\n",
        "  # a value for all features of all clusters as centeroids\n",
        "  cluster_centeroids=np.empty((k,features))\n",
        "\n",
        "  #final results\n",
        "  #result[][0] has distance from its clusters centeroid\n",
        "  #result[][1] has cluster number it is assigned to\n",
        "  for phone in range (rows):\n",
        "    result[phone][0]=999\n",
        "\n",
        "  #assign random centeroids to all clusters\n",
        "  random_assign(data,cluster_centeroids,rows,k)\n",
        "\n",
        "\n",
        "  #applying the algorithm  20 iterations\n",
        "  for iteration in range (iterations):\n",
        "    apply_clustering(data,cluster_centeroids,result,k,rows,features)\n",
        "    print(\"\\n____________________________________________________________________________________________________\\n\")"
      ]
    },
    {
      "cell_type": "code",
      "execution_count": null,
      "metadata": {
        "id": "Udup7LMbDmfV"
      },
      "outputs": [],
      "source": [
        "import csv"
      ]
    },
    {
      "cell_type": "code",
      "execution_count": null,
      "metadata": {
        "id": "_qizPdyJrqUs"
      },
      "outputs": [],
      "source": [
        "Clust_Csv = []\n",
        "def storeascsv(data1,result,rows,features,k):\n",
        "  header=[]\n",
        "  for i in range(features):\n",
        "    header.append(\"feature-\"+str(i))\n",
        "\n",
        "  for cluster in range (k):\n",
        "    file_name = \"cluster_\"+str(int(cluster))+\"_file.csv\"\n",
        "    Clust_Csv.append(file_name)\n",
        "    with open(file_name,'w',newline=\"\") as file:\n",
        "      csvwriter = csv.writer(file)\n",
        "      csvwriter.writerow(header)\n",
        "\n",
        "  for phone in range(rows):\n",
        "    cluster_no=result[phone][1]\n",
        "    file_name = \"cluster_\"+str(int(cluster_no))+\"_file.csv\"\n",
        "    with open(file_name,'a',newline=\"\") as file:\n",
        "      csvwriter = csv.writer(file)\n",
        "      csvwriter.writerow(data1[phone])\n",
        "\n",
        "  print (\"\\n Files created successfully \\n\")"
      ]
    },
    {
      "cell_type": "code",
      "execution_count": null,
      "metadata": {
        "id": "Sd7Ewl0nBc5z"
      },
      "outputs": [],
      "source": [
        "def kmeans():\n",
        "  print(\"\\n Dataset :\\n\",data1 )\n",
        "  rows , features=np.shape(data1)\n",
        "  print(\"number of rows : \",rows)\n",
        "  print(\"number of columns : \",features)\n",
        "  result=np.zeros((rows,2))\n",
        "  algorithm(data1,result,rows,features)\n",
        "  storeascsv(data1,result,rows,features,k)\n"
      ]
    },
    {
      "cell_type": "code",
      "execution_count": null,
      "metadata": {
        "id": "mFn55AE7z0dg"
      },
      "outputs": [],
      "source": []
    }
  ],
  "metadata": {
    "colab": {
      "provenance": []
    },
    "kernelspec": {
      "display_name": "Python 3.9 (tenserflow)",
      "language": "python",
      "name": "tenserflow"
    },
    "language_info": {
      "codemirror_mode": {
        "name": "ipython",
        "version": 3
      },
      "file_extension": ".py",
      "mimetype": "text/x-python",
      "name": "python",
      "nbconvert_exporter": "python",
      "pygments_lexer": "ipython3",
      "version": "3.8.18"
    }
  },
  "nbformat": 4,
  "nbformat_minor": 0
}
